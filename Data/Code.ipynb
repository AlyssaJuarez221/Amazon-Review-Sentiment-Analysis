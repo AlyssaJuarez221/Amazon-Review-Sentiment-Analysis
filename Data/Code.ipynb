{
 "cells": [
  {
   "cell_type": "markdown",
   "id": "6ea30616",
   "metadata": {},
   "source": [
    "# Amazon Video Game Review Sentiment Analysis"
   ]
  },
  {
   "cell_type": "code",
   "execution_count": 330,
   "id": "f82ec42f",
   "metadata": {},
   "outputs": [],
   "source": [
    "import numpy as np\n",
    "import matplotlib\n",
    "from matplotlib import pyplot as plt\n",
    "import pandas as pd"
   ]
  },
  {
   "cell_type": "code",
   "execution_count": 331,
   "id": "aca87c77",
   "metadata": {},
   "outputs": [
    {
     "data": {
      "text/plain": [
       "['ArrowDtype',\n",
       " 'BooleanDtype',\n",
       " 'Categorical',\n",
       " 'CategoricalDtype',\n",
       " 'CategoricalIndex',\n",
       " 'DataFrame',\n",
       " 'DateOffset',\n",
       " 'DatetimeIndex',\n",
       " 'DatetimeTZDtype',\n",
       " 'ExcelFile',\n",
       " 'ExcelWriter',\n",
       " 'Flags',\n",
       " 'Float32Dtype',\n",
       " 'Float64Dtype',\n",
       " 'Float64Index',\n",
       " 'Grouper',\n",
       " 'HDFStore',\n",
       " 'Index',\n",
       " 'IndexSlice',\n",
       " 'Int16Dtype',\n",
       " 'Int32Dtype',\n",
       " 'Int64Dtype',\n",
       " 'Int64Index',\n",
       " 'Int8Dtype',\n",
       " 'Interval',\n",
       " 'IntervalDtype',\n",
       " 'IntervalIndex',\n",
       " 'MultiIndex',\n",
       " 'NA',\n",
       " 'NaT',\n",
       " 'NamedAgg',\n",
       " 'Period',\n",
       " 'PeriodDtype',\n",
       " 'PeriodIndex',\n",
       " 'RangeIndex',\n",
       " 'Series',\n",
       " 'SparseDtype',\n",
       " 'StringDtype',\n",
       " 'Timedelta',\n",
       " 'TimedeltaIndex',\n",
       " 'Timestamp',\n",
       " 'UInt16Dtype',\n",
       " 'UInt32Dtype',\n",
       " 'UInt64Dtype',\n",
       " 'UInt64Index',\n",
       " 'UInt8Dtype',\n",
       " '__all__',\n",
       " '__builtins__',\n",
       " '__cached__',\n",
       " '__deprecated_num_index_names',\n",
       " '__dir__',\n",
       " '__doc__',\n",
       " '__docformat__',\n",
       " '__file__',\n",
       " '__getattr__',\n",
       " '__git_version__',\n",
       " '__loader__',\n",
       " '__name__',\n",
       " '__package__',\n",
       " '__path__',\n",
       " '__spec__',\n",
       " '__version__',\n",
       " '_config',\n",
       " '_is_numpy_dev',\n",
       " '_libs',\n",
       " '_testing',\n",
       " '_typing',\n",
       " '_version',\n",
       " 'annotations',\n",
       " 'api',\n",
       " 'array',\n",
       " 'arrays',\n",
       " 'bdate_range',\n",
       " 'compat',\n",
       " 'concat',\n",
       " 'core',\n",
       " 'crosstab',\n",
       " 'cut',\n",
       " 'date_range',\n",
       " 'describe_option',\n",
       " 'errors',\n",
       " 'eval',\n",
       " 'factorize',\n",
       " 'from_dummies',\n",
       " 'get_dummies',\n",
       " 'get_option',\n",
       " 'infer_freq',\n",
       " 'interval_range',\n",
       " 'io',\n",
       " 'isna',\n",
       " 'isnull',\n",
       " 'json_normalize',\n",
       " 'lreshape',\n",
       " 'melt',\n",
       " 'merge',\n",
       " 'merge_asof',\n",
       " 'merge_ordered',\n",
       " 'notna',\n",
       " 'notnull',\n",
       " 'offsets',\n",
       " 'option_context',\n",
       " 'options',\n",
       " 'pandas',\n",
       " 'period_range',\n",
       " 'pivot',\n",
       " 'pivot_table',\n",
       " 'plotting',\n",
       " 'qcut',\n",
       " 'read_clipboard',\n",
       " 'read_csv',\n",
       " 'read_excel',\n",
       " 'read_feather',\n",
       " 'read_fwf',\n",
       " 'read_gbq',\n",
       " 'read_hdf',\n",
       " 'read_html',\n",
       " 'read_json',\n",
       " 'read_orc',\n",
       " 'read_parquet',\n",
       " 'read_pickle',\n",
       " 'read_sas',\n",
       " 'read_spss',\n",
       " 'read_sql',\n",
       " 'read_sql_query',\n",
       " 'read_sql_table',\n",
       " 'read_stata',\n",
       " 'read_table',\n",
       " 'read_xml',\n",
       " 'reset_option',\n",
       " 'set_eng_float_format',\n",
       " 'set_option',\n",
       " 'show_versions',\n",
       " 'test',\n",
       " 'testing',\n",
       " 'timedelta_range',\n",
       " 'to_datetime',\n",
       " 'to_numeric',\n",
       " 'to_pickle',\n",
       " 'to_timedelta',\n",
       " 'tseries',\n",
       " 'unique',\n",
       " 'util',\n",
       " 'value_counts',\n",
       " 'wide_to_long']"
      ]
     },
     "execution_count": 331,
     "metadata": {},
     "output_type": "execute_result"
    }
   ],
   "source": [
    "dir(pd)"
   ]
  },
  {
   "cell_type": "markdown",
   "id": "c6daf1bd",
   "metadata": {},
   "source": [
    "# A Quick look at the Dataset"
   ]
  },
  {
   "cell_type": "markdown",
   "id": "0be00309",
   "metadata": {},
   "source": [
    "### I cleaned this data myself on excel, as it was too messy to be done on pandas. the original data set is uploaded in the folder under VideoGames.json."
   ]
  },
  {
   "cell_type": "code",
   "execution_count": 332,
   "id": "954cf66f",
   "metadata": {
    "scrolled": true
   },
   "outputs": [
    {
     "name": "stderr",
     "output_type": "stream",
     "text": [
      "/var/folders/6n/x3652qj92pv8yrnwqytnq3d40000gn/T/ipykernel_69517/1635813419.py:1: DtypeWarning: Columns (3,4,5,6,7,8,9,10,11,12,13,14,15,16,17,18,19,20,21,22,23,24,25,26,27,28,29,30,31,32,33,34,35,36,37,38,39,40,41,42,43,44,45,46,47,48,49,50,51,52,53,54,55,56,57,58,59,60,61,62,63,64,65) have mixed types. Specify dtype option on import or set low_memory=False.\n",
      "  df = pd.read_csv('VGClean.csv', on_bad_lines='skip')\n"
     ]
    },
    {
     "data": {
      "text/html": [
       "<div>\n",
       "<style scoped>\n",
       "    .dataframe tbody tr th:only-of-type {\n",
       "        vertical-align: middle;\n",
       "    }\n",
       "\n",
       "    .dataframe tbody tr th {\n",
       "        vertical-align: top;\n",
       "    }\n",
       "\n",
       "    .dataframe thead th {\n",
       "        text-align: right;\n",
       "    }\n",
       "</style>\n",
       "<table border=\"1\" class=\"dataframe\">\n",
       "  <thead>\n",
       "    <tr style=\"text-align: right;\">\n",
       "      <th></th>\n",
       "      <th>Rating</th>\n",
       "      <th>asin</th>\n",
       "      <th>reviews</th>\n",
       "    </tr>\n",
       "  </thead>\n",
       "  <tbody>\n",
       "    <tr>\n",
       "      <th>0</th>\n",
       "      <td>5</td>\n",
       "      <td>700026657</td>\n",
       "      <td>This game is a bit hard to get the hang of, bu...</td>\n",
       "    </tr>\n",
       "    <tr>\n",
       "      <th>1</th>\n",
       "      <td>4</td>\n",
       "      <td>700026657</td>\n",
       "      <td>I played it a while but it was alright. The st...</td>\n",
       "    </tr>\n",
       "    <tr>\n",
       "      <th>2</th>\n",
       "      <td>3</td>\n",
       "      <td>700026657</td>\n",
       "      <td>ok game.</td>\n",
       "    </tr>\n",
       "    <tr>\n",
       "      <th>3</th>\n",
       "      <td>2</td>\n",
       "      <td>700026657</td>\n",
       "      <td>found the game a bit too complicated, not what...</td>\n",
       "    </tr>\n",
       "    <tr>\n",
       "      <th>4</th>\n",
       "      <td>5</td>\n",
       "      <td>700026657</td>\n",
       "      <td>great game, I love it and have played it since...</td>\n",
       "    </tr>\n",
       "    <tr>\n",
       "      <th>...</th>\n",
       "      <td>...</td>\n",
       "      <td>...</td>\n",
       "      <td>...</td>\n",
       "    </tr>\n",
       "    <tr>\n",
       "      <th>110793</th>\n",
       "      <td>5</td>\n",
       "      <td>B01HFRICLE</td>\n",
       "      <td>This is the RIver City Ransom sequel that I've...</td>\n",
       "    </tr>\n",
       "    <tr>\n",
       "      <th>110794</th>\n",
       "      <td>5</td>\n",
       "      <td>B01HFRICLE</td>\n",
       "      <td>If you played and enjoyed River City Ransom on...</td>\n",
       "    </tr>\n",
       "    <tr>\n",
       "      <th>110795</th>\n",
       "      <td>4</td>\n",
       "      <td>B01HFRICLE</td>\n",
       "      <td>Old school classic</td>\n",
       "    </tr>\n",
       "    <tr>\n",
       "      <th>110796</th>\n",
       "      <td>3</td>\n",
       "      <td>B01HFRICLE</td>\n",
       "      <td>This nostalgic game with updaged game play ele...</td>\n",
       "    </tr>\n",
       "    <tr>\n",
       "      <th>110797</th>\n",
       "      <td>2</td>\n",
       "      <td>B01HIZGKOE</td>\n",
       "      <td>The graphics are terrible, it looks like ps2 g...</td>\n",
       "    </tr>\n",
       "  </tbody>\n",
       "</table>\n",
       "<p>110798 rows × 3 columns</p>\n",
       "</div>"
      ],
      "text/plain": [
       "        Rating        asin                                            reviews\n",
       "0            5   700026657  This game is a bit hard to get the hang of, bu...\n",
       "1            4   700026657  I played it a while but it was alright. The st...\n",
       "2            3   700026657                                           ok game.\n",
       "3            2   700026657  found the game a bit too complicated, not what...\n",
       "4            5   700026657  great game, I love it and have played it since...\n",
       "...        ...         ...                                                ...\n",
       "110793       5  B01HFRICLE  This is the RIver City Ransom sequel that I've...\n",
       "110794       5  B01HFRICLE  If you played and enjoyed River City Ransom on...\n",
       "110795       4  B01HFRICLE                                 Old school classic\n",
       "110796       3  B01HFRICLE  This nostalgic game with updaged game play ele...\n",
       "110797       2  B01HIZGKOE  The graphics are terrible, it looks like ps2 g...\n",
       "\n",
       "[110798 rows x 3 columns]"
      ]
     },
     "execution_count": 332,
     "metadata": {},
     "output_type": "execute_result"
    }
   ],
   "source": [
    "df = pd.read_csv('VGClean.csv', on_bad_lines='skip')\n",
    "df2 = df.iloc[:,:3]\n",
    "df2"
   ]
  },
  {
   "cell_type": "code",
   "execution_count": 333,
   "id": "8e31ce56",
   "metadata": {},
   "outputs": [
    {
     "name": "stdout",
     "output_type": "stream",
     "text": [
      "This is the number of observations in my dataset: 3301\n",
      "Number of variables:  3\n"
     ]
    }
   ],
   "source": [
    "print(\"This is the number of observations in my dataset:\", len(df3.index))\n",
    "cols = len(df2.axes[1])\n",
    "print(\"Number of variables: \", cols)"
   ]
  },
  {
   "cell_type": "markdown",
   "id": "a520216c",
   "metadata": {},
   "source": [
    "# Data Exploration"
   ]
  },
  {
   "cell_type": "markdown",
   "id": "b2e30ab7",
   "metadata": {},
   "source": [
    "### Here I am trying to figure out the number of times a product occurs to figure out what the most popular products are so that my graphs will be more visually appealing. "
   ]
  },
  {
   "cell_type": "code",
   "execution_count": 338,
   "id": "f3a9d09f",
   "metadata": {},
   "outputs": [
    {
     "data": {
      "text/plain": [
       "B000XJNTNS    614\n",
       "B000VTQ3LU    490\n",
       "B00ENFVJJO    426\n",
       "B0013E9HP6    388\n",
       "B00L59D9HG    358\n",
       "             ... \n",
       "B003R7H5TC      1\n",
       "B00004LN2S      1\n",
       "B014DMSKD4      1\n",
       "B000271MCG      1\n",
       "B0030GG3PC      1\n",
       "Name: asin, Length: 8500, dtype: int64"
      ]
     },
     "execution_count": 338,
     "metadata": {},
     "output_type": "execute_result"
    }
   ],
   "source": [
    "df2['asin'].value_counts()"
   ]
  },
  {
   "cell_type": "code",
   "execution_count": 339,
   "id": "195a3d75",
   "metadata": {},
   "outputs": [],
   "source": [
    "df3 = df2.groupby('asin').filter(lambda d: len(d) > 305)"
   ]
  },
  {
   "cell_type": "code",
   "execution_count": 340,
   "id": "5dfb44d7",
   "metadata": {},
   "outputs": [
    {
     "data": {
      "text/plain": [
       "B000XJNTNS    614\n",
       "B000VTQ3LU    490\n",
       "B00ENFVJJO    426\n",
       "B0013E9HP6    388\n",
       "B00L59D9HG    358\n",
       "B0017Q4DGI    357\n",
       "B0029LJIFG    336\n",
       "B000VJRU44    332\n",
       "Name: asin, dtype: int64"
      ]
     },
     "execution_count": 340,
     "metadata": {},
     "output_type": "execute_result"
    }
   ],
   "source": [
    "df3['asin'].value_counts()"
   ]
  },
  {
   "cell_type": "code",
   "execution_count": 341,
   "id": "0b714375",
   "metadata": {},
   "outputs": [
    {
     "name": "stdout",
     "output_type": "stream",
     "text": [
      "8.0\n",
      "6.0\n"
     ]
    }
   ],
   "source": [
    "plot_size = plt.rcParams[\"figure.figsize\"] \n",
    "print(plot_size[0]) \n",
    "print(plot_size[1])\n",
    "\n",
    "plot_size[0] = 8\n",
    "plot_size[1] = 6\n",
    "plt.rcParams[\"figure.figsize\"] = plot_size "
   ]
  },
  {
   "cell_type": "code",
   "execution_count": 342,
   "id": "131df6d3",
   "metadata": {},
   "outputs": [
    {
     "data": {
      "text/plain": [
       "<AxesSubplot: title={'center': 'Count of Reviews by Stars'}>"
      ]
     },
     "execution_count": 342,
     "metadata": {},
     "output_type": "execute_result"
    },
    {
     "data": {
      "image/png": "[encoded data removed]",
      "text/plain": [
       "<Figure size 800x600 with 1 Axes>"
      ]
     },
     "metadata": {},
     "output_type": "display_data"
    }
   ],
   "source": [
    "df2['Rating'].value_counts().sort_index().plot(kind='bar', title =\"Count of Reviews by Stars\")                               \n",
    "                                              "
   ]
  },
  {
   "cell_type": "code",
   "execution_count": 343,
   "id": "8ebc476c",
   "metadata": {},
   "outputs": [
    {
     "data": {
      "text/plain": [
       "<AxesSubplot: title={'center': 'Sentiment of the Top Products'}, xlabel='asin'>"
      ]
     },
     "execution_count": 343,
     "metadata": {},
     "output_type": "execute_result"
    },
    {
     "data": {
      "image/png": "[encoded data removed]",
      "text/plain": [
       "<Figure size 800x600 with 1 Axes>"
      ]
     },
     "metadata": {},
     "output_type": "display_data"
    }
   ],
   "source": [
    "product = df3.groupby(['asin', 'Rating']).Rating.count().unstack()\n",
    "product.plot(kind='bar', title = \"Sentiment of the Top Products\")\n"
   ]
  },
  {
   "cell_type": "code",
   "execution_count": 344,
   "id": "f293828c",
   "metadata": {
    "scrolled": true
   },
   "outputs": [
    {
     "data": {
      "image/png": "[encoded data removed]",
      "text/plain": [
       "<Figure size 500x500 with 1 Axes>"
      ]
     },
     "metadata": {},
     "output_type": "display_data"
    }
   ],
   "source": [
    "overall = df3['Rating'].value_counts()\n",
    "overall.plot(kind='pie', title = \"sentiment\", figsize = (5,5))\n",
    "plt.legend()\n",
    "plt.show()"
   ]
  },
  {
   "cell_type": "markdown",
   "id": "661c4094",
   "metadata": {},
   "source": [
    "# Sentiment Analysis"
   ]
  },
  {
   "cell_type": "code",
   "execution_count": 345,
   "id": "e74ff7c1",
   "metadata": {},
   "outputs": [
    {
     "name": "stderr",
     "output_type": "stream",
     "text": [
      "[nltk_data] Downloading package punkt to\n",
      "[nltk_data]     /Users/alyssajuarez/nltk_data...\n",
      "[nltk_data]   Package punkt is already up-to-date!\n",
      "[nltk_data] Downloading package vader_lexicon to\n",
      "[nltk_data]     /Users/alyssajuarez/nltk_data...\n",
      "[nltk_data]   Package vader_lexicon is already up-to-date!\n"
     ]
    }
   ],
   "source": [
    "import nltk\n",
    "nltk.download('punkt')\n",
    "nltk.download('vader_lexicon')\n",
    "import seaborn as sns"
   ]
  },
  {
   "cell_type": "markdown",
   "id": "4613f19b",
   "metadata": {},
   "source": [
    "## Using the Vader Model"
   ]
  },
  {
   "cell_type": "markdown",
   "id": "0319e3fe",
   "metadata": {},
   "source": [
    "### Vader tokenizes each word in a given text and marks is as positive, negative, or neutral. It then weights this to calculate a compound which determines if the general sentiment is positive or negatve. "
   ]
  },
  {
   "cell_type": "code",
   "execution_count": 349,
   "id": "e595df06",
   "metadata": {},
   "outputs": [],
   "source": [
    "from nltk.sentiment import SentimentIntensityAnalyzer\n",
    "from tqdm.notebook import tqdm\n",
    "sia = SentimentIntensityAnalyzer"
   ]
  },
  {
   "cell_type": "code",
   "execution_count": 350,
   "id": "f13cb769",
   "metadata": {},
   "outputs": [],
   "source": [
    "from vaderSentiment.vaderSentiment import SentimentIntensityAnalyzer\n",
    "\n",
    "#calculate the negative, positive, neutral and compound scores, plus verbal evaluation\n",
    "def sentiment_vader(sentence):\n",
    "\n",
    "    # Create a SentimentIntensityAnalyzer object.\n",
    "    sid_obj = SentimentIntensityAnalyzer()\n",
    "\n",
    "    sentiment_dict = sid_obj.polarity_scores(sentence)\n",
    "    negative = sentiment_dict['neg']\n",
    "    neutral = sentiment_dict['neu']\n",
    "    positive = sentiment_dict['pos']\n",
    "    compound = sentiment_dict['compound']\n",
    "\n",
    "    if sentiment_dict['compound'] >= 0.05 :\n",
    "        overall_sentiment = \"Positive\"\n",
    "\n",
    "    elif sentiment_dict['compound'] <= - 0.05 :\n",
    "        overall_sentiment = \"Negative\"\n",
    "\n",
    "    else :\n",
    "        overall_sentiment = \"Neutral\""
   ]
  },
  {
   "cell_type": "code",
   "execution_count": 428,
   "id": "c2f9c0fd",
   "metadata": {},
   "outputs": [],
   "source": [
    "df2['scores'] = df2['reviews'].apply(lambda review: sid.polarity_scores(str(review)))"
   ]
  },
  {
   "cell_type": "code",
   "execution_count": 429,
   "id": "f4908334",
   "metadata": {},
   "outputs": [
    {
     "data": {
      "text/html": [
       "<div>\n",
       "<style scoped>\n",
       "    .dataframe tbody tr th:only-of-type {\n",
       "        vertical-align: middle;\n",
       "    }\n",
       "\n",
       "    .dataframe tbody tr th {\n",
       "        vertical-align: top;\n",
       "    }\n",
       "\n",
       "    .dataframe thead th {\n",
       "        text-align: right;\n",
       "    }\n",
       "</style>\n",
       "<table border=\"1\" class=\"dataframe\">\n",
       "  <thead>\n",
       "    <tr style=\"text-align: right;\">\n",
       "      <th></th>\n",
       "      <th>Rating</th>\n",
       "      <th>asin</th>\n",
       "      <th>reviews</th>\n",
       "      <th>scores</th>\n",
       "      <th>compound</th>\n",
       "      <th>comp_score</th>\n",
       "    </tr>\n",
       "  </thead>\n",
       "  <tbody>\n",
       "    <tr>\n",
       "      <th>0</th>\n",
       "      <td>5</td>\n",
       "      <td>700026657</td>\n",
       "      <td>This game is a bit hard to get the hang of, bu...</td>\n",
       "      <td>{'neg': 0.058, 'neu': 0.671, 'pos': 0.271, 'co...</td>\n",
       "      <td>0.7543</td>\n",
       "      <td>pos</td>\n",
       "    </tr>\n",
       "    <tr>\n",
       "      <th>1</th>\n",
       "      <td>4</td>\n",
       "      <td>700026657</td>\n",
       "      <td>I played it a while but it was alright. The st...</td>\n",
       "      <td>{'neg': 0.132, 'neu': 0.61, 'pos': 0.259, 'com...</td>\n",
       "      <td>0.8302</td>\n",
       "      <td>pos</td>\n",
       "    </tr>\n",
       "    <tr>\n",
       "      <th>2</th>\n",
       "      <td>3</td>\n",
       "      <td>700026657</td>\n",
       "      <td>ok game.</td>\n",
       "      <td>{'neg': 0.0, 'neu': 0.312, 'pos': 0.688, 'comp...</td>\n",
       "      <td>0.2960</td>\n",
       "      <td>pos</td>\n",
       "    </tr>\n",
       "    <tr>\n",
       "      <th>3</th>\n",
       "      <td>2</td>\n",
       "      <td>700026657</td>\n",
       "      <td>found the game a bit too complicated, not what...</td>\n",
       "      <td>{'neg': 0.0, 'neu': 0.862, 'pos': 0.138, 'comp...</td>\n",
       "      <td>0.3400</td>\n",
       "      <td>pos</td>\n",
       "    </tr>\n",
       "    <tr>\n",
       "      <th>4</th>\n",
       "      <td>5</td>\n",
       "      <td>700026657</td>\n",
       "      <td>great game, I love it and have played it since...</td>\n",
       "      <td>{'neg': 0.0, 'neu': 0.428, 'pos': 0.572, 'comp...</td>\n",
       "      <td>0.8934</td>\n",
       "      <td>pos</td>\n",
       "    </tr>\n",
       "    <tr>\n",
       "      <th>...</th>\n",
       "      <td>...</td>\n",
       "      <td>...</td>\n",
       "      <td>...</td>\n",
       "      <td>...</td>\n",
       "      <td>...</td>\n",
       "      <td>...</td>\n",
       "    </tr>\n",
       "    <tr>\n",
       "      <th>110793</th>\n",
       "      <td>5</td>\n",
       "      <td>B01HFRICLE</td>\n",
       "      <td>This is the RIver City Ransom sequel that I've...</td>\n",
       "      <td>{'neg': 0.0, 'neu': 0.807, 'pos': 0.193, 'comp...</td>\n",
       "      <td>0.8617</td>\n",
       "      <td>pos</td>\n",
       "    </tr>\n",
       "    <tr>\n",
       "      <th>110794</th>\n",
       "      <td>5</td>\n",
       "      <td>B01HFRICLE</td>\n",
       "      <td>If you played and enjoyed River City Ransom on...</td>\n",
       "      <td>{'neg': 0.041, 'neu': 0.759, 'pos': 0.201, 'co...</td>\n",
       "      <td>0.7096</td>\n",
       "      <td>pos</td>\n",
       "    </tr>\n",
       "    <tr>\n",
       "      <th>110795</th>\n",
       "      <td>4</td>\n",
       "      <td>B01HFRICLE</td>\n",
       "      <td>Old school classic</td>\n",
       "      <td>{'neg': 0.0, 'neu': 1.0, 'pos': 0.0, 'compound...</td>\n",
       "      <td>0.0000</td>\n",
       "      <td>pos</td>\n",
       "    </tr>\n",
       "    <tr>\n",
       "      <th>110796</th>\n",
       "      <td>3</td>\n",
       "      <td>B01HFRICLE</td>\n",
       "      <td>This nostalgic game with updaged game play ele...</td>\n",
       "      <td>{'neg': 0.065, 'neu': 0.627, 'pos': 0.308, 'co...</td>\n",
       "      <td>0.8151</td>\n",
       "      <td>pos</td>\n",
       "    </tr>\n",
       "    <tr>\n",
       "      <th>110797</th>\n",
       "      <td>2</td>\n",
       "      <td>B01HIZGKOE</td>\n",
       "      <td>The graphics are terrible, it looks like ps2 g...</td>\n",
       "      <td>{'neg': 0.17, 'neu': 0.69, 'pos': 0.14, 'compo...</td>\n",
       "      <td>-0.3412</td>\n",
       "      <td>neg</td>\n",
       "    </tr>\n",
       "  </tbody>\n",
       "</table>\n",
       "<p>110798 rows × 6 columns</p>\n",
       "</div>"
      ],
      "text/plain": [
       "        Rating        asin                                            reviews  \\\n",
       "0            5   700026657  This game is a bit hard to get the hang of, bu...   \n",
       "1            4   700026657  I played it a while but it was alright. The st...   \n",
       "2            3   700026657                                           ok game.   \n",
       "3            2   700026657  found the game a bit too complicated, not what...   \n",
       "4            5   700026657  great game, I love it and have played it since...   \n",
       "...        ...         ...                                                ...   \n",
       "110793       5  B01HFRICLE  This is the RIver City Ransom sequel that I've...   \n",
       "110794       5  B01HFRICLE  If you played and enjoyed River City Ransom on...   \n",
       "110795       4  B01HFRICLE                                 Old school classic   \n",
       "110796       3  B01HFRICLE  This nostalgic game with updaged game play ele...   \n",
       "110797       2  B01HIZGKOE  The graphics are terrible, it looks like ps2 g...   \n",
       "\n",
       "                                                   scores  compound comp_score  \n",
       "0       {'neg': 0.058, 'neu': 0.671, 'pos': 0.271, 'co...    0.7543        pos  \n",
       "1       {'neg': 0.132, 'neu': 0.61, 'pos': 0.259, 'com...    0.8302        pos  \n",
       "2       {'neg': 0.0, 'neu': 0.312, 'pos': 0.688, 'comp...    0.2960        pos  \n",
       "3       {'neg': 0.0, 'neu': 0.862, 'pos': 0.138, 'comp...    0.3400        pos  \n",
       "4       {'neg': 0.0, 'neu': 0.428, 'pos': 0.572, 'comp...    0.8934        pos  \n",
       "...                                                   ...       ...        ...  \n",
       "110793  {'neg': 0.0, 'neu': 0.807, 'pos': 0.193, 'comp...    0.8617        pos  \n",
       "110794  {'neg': 0.041, 'neu': 0.759, 'pos': 0.201, 'co...    0.7096        pos  \n",
       "110795  {'neg': 0.0, 'neu': 1.0, 'pos': 0.0, 'compound...    0.0000        pos  \n",
       "110796  {'neg': 0.065, 'neu': 0.627, 'pos': 0.308, 'co...    0.8151        pos  \n",
       "110797  {'neg': 0.17, 'neu': 0.69, 'pos': 0.14, 'compo...   -0.3412        neg  \n",
       "\n",
       "[110798 rows x 6 columns]"
      ]
     },
     "execution_count": 429,
     "metadata": {},
     "output_type": "execute_result"
    }
   ],
   "source": [
    "df2"
   ]
  },
  {
   "cell_type": "code",
   "execution_count": null,
   "id": "13b586ed",
   "metadata": {},
   "outputs": [],
   "source": [
    "df2['compound']  = df2['scores'].apply(lambda score_dict: score_dict['compound'])\n",
    "\n",
    "df2.head()"
   ]
  },
  {
   "cell_type": "code",
   "execution_count": 355,
   "id": "5f578f68",
   "metadata": {},
   "outputs": [
    {
     "data": {
      "text/html": [
       "<div>\n",
       "<style scoped>\n",
       "    .dataframe tbody tr th:only-of-type {\n",
       "        vertical-align: middle;\n",
       "    }\n",
       "\n",
       "    .dataframe tbody tr th {\n",
       "        vertical-align: top;\n",
       "    }\n",
       "\n",
       "    .dataframe thead th {\n",
       "        text-align: right;\n",
       "    }\n",
       "</style>\n",
       "<table border=\"1\" class=\"dataframe\">\n",
       "  <thead>\n",
       "    <tr style=\"text-align: right;\">\n",
       "      <th></th>\n",
       "      <th>Rating</th>\n",
       "      <th>asin</th>\n",
       "      <th>reviews</th>\n",
       "      <th>scores</th>\n",
       "      <th>compound</th>\n",
       "      <th>comp_score</th>\n",
       "    </tr>\n",
       "  </thead>\n",
       "  <tbody>\n",
       "    <tr>\n",
       "      <th>0</th>\n",
       "      <td>5</td>\n",
       "      <td>700026657</td>\n",
       "      <td>This game is a bit hard to get the hang of, bu...</td>\n",
       "      <td>{'neg': 0.058, 'neu': 0.671, 'pos': 0.271, 'co...</td>\n",
       "      <td>0.7543</td>\n",
       "      <td>pos</td>\n",
       "    </tr>\n",
       "    <tr>\n",
       "      <th>1</th>\n",
       "      <td>4</td>\n",
       "      <td>700026657</td>\n",
       "      <td>I played it a while but it was alright. The st...</td>\n",
       "      <td>{'neg': 0.132, 'neu': 0.61, 'pos': 0.259, 'com...</td>\n",
       "      <td>0.8302</td>\n",
       "      <td>pos</td>\n",
       "    </tr>\n",
       "    <tr>\n",
       "      <th>2</th>\n",
       "      <td>3</td>\n",
       "      <td>700026657</td>\n",
       "      <td>ok game.</td>\n",
       "      <td>{'neg': 0.0, 'neu': 0.312, 'pos': 0.688, 'comp...</td>\n",
       "      <td>0.2960</td>\n",
       "      <td>pos</td>\n",
       "    </tr>\n",
       "    <tr>\n",
       "      <th>3</th>\n",
       "      <td>2</td>\n",
       "      <td>700026657</td>\n",
       "      <td>found the game a bit too complicated, not what...</td>\n",
       "      <td>{'neg': 0.0, 'neu': 0.862, 'pos': 0.138, 'comp...</td>\n",
       "      <td>0.3400</td>\n",
       "      <td>pos</td>\n",
       "    </tr>\n",
       "    <tr>\n",
       "      <th>4</th>\n",
       "      <td>5</td>\n",
       "      <td>700026657</td>\n",
       "      <td>great game, I love it and have played it since...</td>\n",
       "      <td>{'neg': 0.0, 'neu': 0.428, 'pos': 0.572, 'comp...</td>\n",
       "      <td>0.8934</td>\n",
       "      <td>pos</td>\n",
       "    </tr>\n",
       "  </tbody>\n",
       "</table>\n",
       "</div>"
      ],
      "text/plain": [
       "   Rating       asin                                            reviews  \\\n",
       "0       5  700026657  This game is a bit hard to get the hang of, bu...   \n",
       "1       4  700026657  I played it a while but it was alright. The st...   \n",
       "2       3  700026657                                           ok game.   \n",
       "3       2  700026657  found the game a bit too complicated, not what...   \n",
       "4       5  700026657  great game, I love it and have played it since...   \n",
       "\n",
       "                                              scores  compound comp_score  \n",
       "0  {'neg': 0.058, 'neu': 0.671, 'pos': 0.271, 'co...    0.7543        pos  \n",
       "1  {'neg': 0.132, 'neu': 0.61, 'pos': 0.259, 'com...    0.8302        pos  \n",
       "2  {'neg': 0.0, 'neu': 0.312, 'pos': 0.688, 'comp...    0.2960        pos  \n",
       "3  {'neg': 0.0, 'neu': 0.862, 'pos': 0.138, 'comp...    0.3400        pos  \n",
       "4  {'neg': 0.0, 'neu': 0.428, 'pos': 0.572, 'comp...    0.8934        pos  "
      ]
     },
     "execution_count": 355,
     "metadata": {},
     "output_type": "execute_result"
    }
   ],
   "source": [
    "df2['comp_score'] = df2['compound'].apply(lambda c: 'pos' if c >=0 else 'neg')\n",
    "\n",
    "df2.head()"
   ]
  },
  {
   "cell_type": "code",
   "execution_count": null,
   "id": "d1574bae",
   "metadata": {},
   "outputs": [],
   "source": [
    "df2[['neg', 'neu', 'pos']] = df.Student_details.str.split(\"_\", expand = True)"
   ]
  },
  {
   "cell_type": "code",
   "execution_count": 358,
   "id": "b9c1bd35",
   "metadata": {},
   "outputs": [
    {
     "data": {
      "image/png": "[encoded data removed]",
      "text/plain": [
       "<Figure size 800x600 with 1 Axes>"
      ]
     },
     "metadata": {},
     "output_type": "display_data"
    }
   ],
   "source": [
    "#compare the compound score vs the star review\n",
    "sns.barplot(data = df2, x='Rating', y = 'compound')\n",
    "plt.show()"
   ]
  },
  {
   "cell_type": "code",
   "execution_count": 322,
   "id": "000e4c07",
   "metadata": {},
   "outputs": [],
   "source": [
    "#Replace ratings with somethign we can compare to vader\n",
    "\n",
    "df2['Rating'] = df2['Rating'].astype(str)\n",
    "df2['Rating'] = df2['Rating'].replace(['5'],'pos')\n",
    "df2['Rating'] = df2['Rating'].replace(['4'],'pos')\n",
    "df2['Rating'] = df2['Rating'].replace(['3'],'neu')\n",
    "df2['Rating'] = df2['Rating'].replace(['2'],'neg')\n",
    "df2['Rating'] = df2['Rating'].replace(['1'],'neg')"
   ]
  },
  {
   "cell_type": "code",
   "execution_count": 323,
   "id": "7c6461d3",
   "metadata": {
    "scrolled": true
   },
   "outputs": [
    {
     "data": {
      "text/html": [
       "<div>\n",
       "<style scoped>\n",
       "    .dataframe tbody tr th:only-of-type {\n",
       "        vertical-align: middle;\n",
       "    }\n",
       "\n",
       "    .dataframe tbody tr th {\n",
       "        vertical-align: top;\n",
       "    }\n",
       "\n",
       "    .dataframe thead th {\n",
       "        text-align: right;\n",
       "    }\n",
       "</style>\n",
       "<table border=\"1\" class=\"dataframe\">\n",
       "  <thead>\n",
       "    <tr style=\"text-align: right;\">\n",
       "      <th></th>\n",
       "      <th>Rating</th>\n",
       "      <th>asin</th>\n",
       "      <th>reviews</th>\n",
       "      <th>scores</th>\n",
       "      <th>compound</th>\n",
       "      <th>comp_score</th>\n",
       "      <th>Result</th>\n",
       "    </tr>\n",
       "  </thead>\n",
       "  <tbody>\n",
       "    <tr>\n",
       "      <th>0</th>\n",
       "      <td>pos</td>\n",
       "      <td>700026657</td>\n",
       "      <td>This game is a bit hard to get the hang of, bu...</td>\n",
       "      <td>{'neg': 0.058, 'neu': 0.671, 'pos': 0.271, 'co...</td>\n",
       "      <td>0.7543</td>\n",
       "      <td>pos</td>\n",
       "      <td>True</td>\n",
       "    </tr>\n",
       "    <tr>\n",
       "      <th>1</th>\n",
       "      <td>pos</td>\n",
       "      <td>700026657</td>\n",
       "      <td>I played it a while but it was alright. The st...</td>\n",
       "      <td>{'neg': 0.132, 'neu': 0.61, 'pos': 0.259, 'com...</td>\n",
       "      <td>0.8302</td>\n",
       "      <td>pos</td>\n",
       "      <td>True</td>\n",
       "    </tr>\n",
       "    <tr>\n",
       "      <th>2</th>\n",
       "      <td>neu</td>\n",
       "      <td>700026657</td>\n",
       "      <td>ok game.</td>\n",
       "      <td>{'neg': 0.0, 'neu': 0.312, 'pos': 0.688, 'comp...</td>\n",
       "      <td>0.2960</td>\n",
       "      <td>pos</td>\n",
       "      <td>False</td>\n",
       "    </tr>\n",
       "    <tr>\n",
       "      <th>3</th>\n",
       "      <td>neg</td>\n",
       "      <td>700026657</td>\n",
       "      <td>found the game a bit too complicated, not what...</td>\n",
       "      <td>{'neg': 0.0, 'neu': 0.862, 'pos': 0.138, 'comp...</td>\n",
       "      <td>0.3400</td>\n",
       "      <td>pos</td>\n",
       "      <td>False</td>\n",
       "    </tr>\n",
       "    <tr>\n",
       "      <th>4</th>\n",
       "      <td>pos</td>\n",
       "      <td>700026657</td>\n",
       "      <td>great game, I love it and have played it since...</td>\n",
       "      <td>{'neg': 0.0, 'neu': 0.428, 'pos': 0.572, 'comp...</td>\n",
       "      <td>0.8934</td>\n",
       "      <td>pos</td>\n",
       "      <td>True</td>\n",
       "    </tr>\n",
       "    <tr>\n",
       "      <th>...</th>\n",
       "      <td>...</td>\n",
       "      <td>...</td>\n",
       "      <td>...</td>\n",
       "      <td>...</td>\n",
       "      <td>...</td>\n",
       "      <td>...</td>\n",
       "      <td>...</td>\n",
       "    </tr>\n",
       "    <tr>\n",
       "      <th>110793</th>\n",
       "      <td>pos</td>\n",
       "      <td>B01HFRICLE</td>\n",
       "      <td>This is the RIver City Ransom sequel that I've...</td>\n",
       "      <td>{'neg': 0.0, 'neu': 0.807, 'pos': 0.193, 'comp...</td>\n",
       "      <td>0.8617</td>\n",
       "      <td>pos</td>\n",
       "      <td>True</td>\n",
       "    </tr>\n",
       "    <tr>\n",
       "      <th>110794</th>\n",
       "      <td>pos</td>\n",
       "      <td>B01HFRICLE</td>\n",
       "      <td>If you played and enjoyed River City Ransom on...</td>\n",
       "      <td>{'neg': 0.041, 'neu': 0.759, 'pos': 0.201, 'co...</td>\n",
       "      <td>0.7096</td>\n",
       "      <td>pos</td>\n",
       "      <td>True</td>\n",
       "    </tr>\n",
       "    <tr>\n",
       "      <th>110795</th>\n",
       "      <td>pos</td>\n",
       "      <td>B01HFRICLE</td>\n",
       "      <td>Old school classic</td>\n",
       "      <td>{'neg': 0.0, 'neu': 1.0, 'pos': 0.0, 'compound...</td>\n",
       "      <td>0.0000</td>\n",
       "      <td>pos</td>\n",
       "      <td>True</td>\n",
       "    </tr>\n",
       "    <tr>\n",
       "      <th>110796</th>\n",
       "      <td>neu</td>\n",
       "      <td>B01HFRICLE</td>\n",
       "      <td>This nostalgic game with updaged game play ele...</td>\n",
       "      <td>{'neg': 0.065, 'neu': 0.627, 'pos': 0.308, 'co...</td>\n",
       "      <td>0.8151</td>\n",
       "      <td>pos</td>\n",
       "      <td>False</td>\n",
       "    </tr>\n",
       "    <tr>\n",
       "      <th>110797</th>\n",
       "      <td>neg</td>\n",
       "      <td>B01HIZGKOE</td>\n",
       "      <td>The graphics are terrible, it looks like ps2 g...</td>\n",
       "      <td>{'neg': 0.17, 'neu': 0.69, 'pos': 0.14, 'compo...</td>\n",
       "      <td>-0.3412</td>\n",
       "      <td>neg</td>\n",
       "      <td>True</td>\n",
       "    </tr>\n",
       "  </tbody>\n",
       "</table>\n",
       "<p>110798 rows × 7 columns</p>\n",
       "</div>"
      ],
      "text/plain": [
       "       Rating        asin                                            reviews  \\\n",
       "0         pos   700026657  This game is a bit hard to get the hang of, bu...   \n",
       "1         pos   700026657  I played it a while but it was alright. The st...   \n",
       "2         neu   700026657                                           ok game.   \n",
       "3         neg   700026657  found the game a bit too complicated, not what...   \n",
       "4         pos   700026657  great game, I love it and have played it since...   \n",
       "...       ...         ...                                                ...   \n",
       "110793    pos  B01HFRICLE  This is the RIver City Ransom sequel that I've...   \n",
       "110794    pos  B01HFRICLE  If you played and enjoyed River City Ransom on...   \n",
       "110795    pos  B01HFRICLE                                 Old school classic   \n",
       "110796    neu  B01HFRICLE  This nostalgic game with updaged game play ele...   \n",
       "110797    neg  B01HIZGKOE  The graphics are terrible, it looks like ps2 g...   \n",
       "\n",
       "                                                   scores  compound  \\\n",
       "0       {'neg': 0.058, 'neu': 0.671, 'pos': 0.271, 'co...    0.7543   \n",
       "1       {'neg': 0.132, 'neu': 0.61, 'pos': 0.259, 'com...    0.8302   \n",
       "2       {'neg': 0.0, 'neu': 0.312, 'pos': 0.688, 'comp...    0.2960   \n",
       "3       {'neg': 0.0, 'neu': 0.862, 'pos': 0.138, 'comp...    0.3400   \n",
       "4       {'neg': 0.0, 'neu': 0.428, 'pos': 0.572, 'comp...    0.8934   \n",
       "...                                                   ...       ...   \n",
       "110793  {'neg': 0.0, 'neu': 0.807, 'pos': 0.193, 'comp...    0.8617   \n",
       "110794  {'neg': 0.041, 'neu': 0.759, 'pos': 0.201, 'co...    0.7096   \n",
       "110795  {'neg': 0.0, 'neu': 1.0, 'pos': 0.0, 'compound...    0.0000   \n",
       "110796  {'neg': 0.065, 'neu': 0.627, 'pos': 0.308, 'co...    0.8151   \n",
       "110797  {'neg': 0.17, 'neu': 0.69, 'pos': 0.14, 'compo...   -0.3412   \n",
       "\n",
       "       comp_score  Result  \n",
       "0             pos    True  \n",
       "1             pos    True  \n",
       "2             pos   False  \n",
       "3             pos   False  \n",
       "4             pos    True  \n",
       "...           ...     ...  \n",
       "110793        pos    True  \n",
       "110794        pos    True  \n",
       "110795        pos    True  \n",
       "110796        pos   False  \n",
       "110797        neg    True  \n",
       "\n",
       "[110798 rows x 7 columns]"
      ]
     },
     "execution_count": 323,
     "metadata": {},
     "output_type": "execute_result"
    }
   ],
   "source": [
    "df2['Result'] = df2['Rating'] == df2['comp_score']\n",
    "df2"
   ]
  },
  {
   "cell_type": "code",
   "execution_count": 325,
   "id": "b38f7735",
   "metadata": {},
   "outputs": [
    {
     "data": {
      "text/plain": [
       "True     90288\n",
       "False    20510\n",
       "Name: Result, dtype: int64"
      ]
     },
     "execution_count": 325,
     "metadata": {},
     "output_type": "execute_result"
    }
   ],
   "source": [
    "df2['Result'].value_counts()"
   ]
  },
  {
   "cell_type": "code",
   "execution_count": 379,
   "id": "7df15f5a",
   "metadata": {},
   "outputs": [],
   "source": [
    "count_row = df2.shape[0]"
   ]
  },
  {
   "cell_type": "code",
   "execution_count": 382,
   "id": "bdd5b212",
   "metadata": {},
   "outputs": [
    {
     "data": {
      "text/plain": [
       "0.8148883553854763"
      ]
     },
     "execution_count": 382,
     "metadata": {},
     "output_type": "execute_result"
    }
   ],
   "source": [
    "#Calculating the success rate of Vader \n",
    "success_rate = 90288/count_row\n",
    "success_rate"
   ]
  },
  {
   "cell_type": "markdown",
   "id": "8d3725ed",
   "metadata": {},
   "source": [
    "### Overall, Vader has a 81% accuracy on determining the sentiment of reviews"
   ]
  }
 ],
 "metadata": {
  "kernelspec": {
   "display_name": "Python 3 (ipykernel)",
   "language": "python",
   "name": "python3"
  },
  "language_info": {
   "codemirror_mode": {
    "name": "ipython",
    "version": 3
   },
   "file_extension": ".py",
   "mimetype": "text/x-python",
   "name": "python",
   "nbconvert_exporter": "python",
   "pygments_lexer": "ipython3",
   "version": "3.10.8"
  }
 },
 "nbformat": 4,
 "nbformat_minor": 5
}
